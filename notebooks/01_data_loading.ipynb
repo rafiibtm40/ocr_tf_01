{
 "cells": [
  {
   "cell_type": "code",
   "execution_count": null,
   "metadata": {
    "vscode": {
     "languageId": "plaintext"
    }
   },
   "outputs": [],
   "source": [
    "import tensorflow as tf\n",
    "import numpy as np\n",
    "import os\n",
    "from tensorflow.keras.preprocessing.image import img_to_array, load_img\n",
    "from sklearn.model_selection import train_test_split\n",
    "\n",
    "# Load MNIST dataset\n",
    "(train_images, train_labels), (test_images, test_labels) = tf.keras.datasets.mnist.load_data()\n",
    "\n",
    "# Normalize pixel values to be between 0 and 1\n",
    "train_images, test_images = train_images / 255.0, test_images / 255.0\n",
    "\n",
    "# Reshape the images to (28, 28, 1)\n",
    "train_images = train_images.reshape((train_images.shape[0], 28, 28, 1))\n",
    "test_images = test_images.reshape((test_images.shape[0], 28, 28, 1))\n",
    "\n",
    "# Loading A-Z Handwritten dataset (images in 28x28 format)\n",
    "def load_az_dataset(dataset_path):\n",
    "    images = []\n",
    "    labels = []\n",
    "    # Assuming you have the images in folders corresponding to each letter\n",
    "    for label in os.listdir(dataset_path):\n",
    "        letter_folder = os.path.join(dataset_path, label)\n",
    "        for image_file in os.listdir(letter_folder):\n",
    "            img_path = os.path.join(letter_folder, image_file)\n",
    "            img = load_img(img_path, target_size=(28, 28), color_mode='grayscale')\n",
    "            img = img_to_array(img) / 255.0  # Normalize image\n",
    "            images.append(img)\n",
    "            labels.append(ord(label) - ord('A'))  # Convert letter to integer label\n",
    "    return np.array(images), np.array(labels)\n",
    "\n",
    "# Load A-Z dataset\n",
    "az_images, az_labels = load_az_dataset(\"data/A_Z Handwritten Data\")\n",
    "\n",
    "# Combine MNIST and A-Z datasets\n",
    "images = np.concatenate([train_images, az_images], axis=0)\n",
    "labels = np.concatenate([train_labels, az_labels], axis=0)\n",
    "\n",
    "# One-hot encode labels\n",
    "labels = tf.keras.utils.to_categorical(labels, num_classes=36)  # Assuming 36 classes (0-9 + A-Z)\n",
    "\n",
    "# Split combined data into train and test sets\n",
    "X_train, X_test, Y_train, Y_test = train_test_split(images, labels, test_size=0.2, random_state=42)\n",
    "\n",
    "# Check data shapes\n",
    "print(X_train.shape, Y_train.shape, X_test.shape, Y_test.shape)\n",
    "\n",
    "def load_data():\n",
    "    return X_train, Y_train, X_test, Y_test\n"
   ]
  }
 ],
 "metadata": {
  "language_info": {
   "name": "python"
  }
 },
 "nbformat": 4,
 "nbformat_minor": 2
}
